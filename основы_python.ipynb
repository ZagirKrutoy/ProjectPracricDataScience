{
  "cells": [
    {
      "cell_type": "markdown",
      "metadata": {
        "id": "M-DGa20PaHnu"
      },
      "source": [
        "#Задача 1\n",
        "Написать функцию на вход которой подается строка, состоящая из латинских букв.\n",
        "Функция должна вернуть количество гласных букв (a, e, i, o, u) в этой строке. Написать тесты для кода"
      ]
    },
    {
      "cell_type": "code",
      "execution_count": 1,
      "metadata": {
        "id": "XvX8X_JJ6PCb"
      },
      "outputs": [
        {
          "name": "stdout",
          "output_type": "stream",
          "text": [
            "All test cases passed!\n"
          ]
        }
      ],
      "source": [
        "def f(word):\n",
        "    word = word.lower()\n",
        "    glasn = \"aeuoi\"\n",
        "    count = 0\n",
        "    for i in word:\n",
        "        if glasn.__contains__(i):\n",
        "            count += 1\n",
        "    return(count)\n",
        "\n",
        "def test_is_unique():\n",
        "    assert f(\"abcde\") == 2, \"Test case 1 failed\"\n",
        "    assert f(\"hello\") == 2, \"Test case 2 failed\"\n",
        "    assert f(\"Python\") == 1, \"Test case 3 failed\"\n",
        "    assert f(\"aA\") == 2, \"Test case 4 failed\" \n",
        "    assert f(\"12345\") == 0, \"Test case 5 failed\"\n",
        "    assert f(\"112233\") == 0, \"Test case 6 failed\"\n",
        "\n",
        "    print(\"All test cases passed!\")\n",
        "\n",
        "test_is_unique()\n"
      ]
    },
    {
      "cell_type": "markdown",
      "metadata": {
        "id": "t2ClV_Y0bbr6"
      },
      "source": [
        "# Задача 2\n",
        "Написать функцию на вход, которой подается строка. Функция должна вернуть true, если\n",
        "каждый символ в строке встречается только 1 раз, иначе должна вернуть false. Написать тесты для кода"
      ]
    },
    {
      "cell_type": "code",
      "execution_count": 8,
      "metadata": {
        "id": "FppbECao6VIz"
      },
      "outputs": [
        {
          "name": "stdout",
          "output_type": "stream",
          "text": [
            "All test cases passed!\n"
          ]
        }
      ],
      "source": [
        "def is_unique(string):\n",
        "    return len(string) == len(set(string))\n",
        "\n",
        "def test_is_unique():\n",
        "    assert is_unique(\"abcde\") == True, \"Test case 1 failed\"\n",
        "    assert is_unique(\"hello\") == False, \"Test case 2 failed\"\n",
        "    assert is_unique(\"Python\") == True, \"Test case 3 failed\"\n",
        "    assert is_unique(\"aA\") == True, \"Test case 4 failed\" \n",
        "    assert is_unique(\"12345\") == True, \"Test case 5 failed\"\n",
        "    assert is_unique(\"112233\") == False, \"Test case 6 failed\"\n",
        "\n",
        "    print(\"All test cases passed!\")\n",
        "\n",
        "test_is_unique()"
      ]
    },
    {
      "cell_type": "markdown",
      "metadata": {
        "id": "udRiIK1cdt6E"
      },
      "source": [
        "# Задача 3\n",
        "Написать функцию, которая принимает положительное число и возвращает количество\n",
        "бит равных 1 в этом числе. Написать тесты для кода"
      ]
    },
    {
      "cell_type": "code",
      "execution_count": 7,
      "metadata": {
        "id": "6tkfDJRz6dp_"
      },
      "outputs": [
        {
          "name": "stdout",
          "output_type": "stream",
          "text": [
            "All test cases passed!\n"
          ]
        }
      ],
      "source": [
        "def count_bits(n):\n",
        "    \n",
        "    return bin(n).count('1')\n",
        "\n",
        "def test_count_bits():\n",
        "    assert count_bits(0) == 0, \"Test case 1 failed\"\n",
        "    assert count_bits(1) == 1, \"Test case 2 failed\"\n",
        "    assert count_bits(5) == 2, \"Test case 3 failed\"  \n",
        "    assert count_bits(7) == 3, \"Test case 4 failed\"  \n",
        "    assert count_bits(1023) == 10, \"Test case 5 failed\"  \n",
        "    assert count_bits(16) == 1, \"Test case 6 failed\"  \n",
        "\n",
        "    print(\"All test cases passed!\")\n",
        "\n",
        "test_count_bits()\n"
      ]
    },
    {
      "cell_type": "markdown",
      "metadata": {
        "id": "26dDUz-Ae17N"
      },
      "source": [
        "# Задача 4\n",
        "Написать функцию, которая принимает положительное число. Функция должна вернуть то,\n",
        "сколько раз необходимо перемножать цифры числа или результат перемножения, чтобы\n",
        "получилось число состоящее из одной цифры.\n",
        "Например, для входного числа:\n",
        "· 39 функция должна вернуть 3, так как 3*9=27 => 2*7=14 => 1*4=4\n",
        "· 4 функция должна вернуть 0, так как число уже состоит из одной цифры\n",
        "· 999 функция должна вернуть 4, так как 9*9*9=729 => 7*2*9=126 => 1*2*6=12 =>\n",
        "1*2=2. Написать тесты для кода"
      ]
    },
    {
      "cell_type": "code",
      "execution_count": 6,
      "metadata": {
        "id": "BH1A_Mgi6i4G"
      },
      "outputs": [
        {
          "name": "stdout",
          "output_type": "stream",
          "text": [
            "All test cases passed!\n"
          ]
        }
      ],
      "source": [
        "def magic(n):\n",
        "    if n < 10:\n",
        "        return 0\n",
        "    \n",
        "    count = 0\n",
        "    while n >= 10:\n",
        "        product = 1\n",
        "        for digit in str(n):\n",
        "            product *= int(digit)\n",
        "        n = product\n",
        "        count += 1\n",
        "    \n",
        "    return count\n",
        "\n",
        "def test_magic():\n",
        "    assert magic(39) == 3, \"Test case 1 failed\"\n",
        "    assert magic(4) == 0, \"Test case 2 failed\"\n",
        "    assert magic(999) == 4, \"Test case 3 failed\"\n",
        "    assert magic(25) == 2, \"Test case 4 failed\"  \n",
        "    assert magic(1) == 0, \"Test case 5 failed\"\n",
        "    assert magic(123456) == 2, \"Test case 6 failed\"\n",
        "    \n",
        "    print(\"All test cases passed!\")\n",
        "\n",
        "test_magic()\n"
      ]
    },
    {
      "cell_type": "markdown",
      "metadata": {
        "id": "0nS-kIa8g8vd"
      },
      "source": [
        "# Задача 5\n",
        "Написать функцию, которая принимает два целочисленных вектора одинаковой длины и\n",
        "возвращает среднеквадратическое отклонение двух векторов. Написать тесты для кода"
      ]
    },
    {
      "cell_type": "code",
      "execution_count": 5,
      "metadata": {
        "id": "8iphx4LM6xbx"
      },
      "outputs": [
        {
          "name": "stdout",
          "output_type": "stream",
          "text": [
            "All test cases passed!\n"
          ]
        }
      ],
      "source": [
        "import math\n",
        "\n",
        "def mse(vector1, vector2):\n",
        "    if len(vector1) != len(vector2):\n",
        "        raise ValueError(\"Векторы должны быть одинаковой длины.\")\n",
        "    n = len(vector1)\n",
        "    sum_of_squares = 0\n",
        "    for i in range(n):\n",
        "        sum_of_squares += (vector1[i] - vector2[i]) ** 2\n",
        "    return math.sqrt(sum_of_squares / n)\n",
        "\n",
        "def test_mse():\n",
        "    assert math.isclose(mse([1, 2, 3], [1, 2, 3]), 0.0), \"Test case 1 failed\"\n",
        "    assert math.isclose(mse([1, 2, 3], [4, 5, 6]), 3.0), \"Test case 2 failed\"\n",
        "    assert math.isclose(mse([0, 0, 0], [0, 0, 0]), 0.0), \"Test case 3 failed\"\n",
        "    assert math.isclose(mse([1, 1, 1], [2, 2, 2]), 1.0), \"Test case 4 failed\"\n",
        "    \n",
        "    print(\"All test cases passed!\")\n",
        "\n",
        "test_mse()\n"
      ]
    },
    {
      "cell_type": "markdown",
      "metadata": {
        "id": "vpIPKL439zkw"
      },
      "source": [
        "# Задача 6\n",
        "Написать функцию, принимающая целое положительное число. Функция должна вернуть\n",
        "строку вида “(n1**p1)(n2**p2)…(nk**pk)” представляющая разложение числа на простые\n",
        "множители (если pi == 1, то выводить только ni).\n",
        "Например, для числа 86240 функция должна вернуть “(2**5)(5)(7**2)(11)”. Написать тесты для кода"
      ]
    },
    {
      "cell_type": "code",
      "execution_count": 4,
      "metadata": {
        "id": "pFebmcZk94Jw"
      },
      "outputs": [
        {
          "name": "stdout",
          "output_type": "stream",
          "text": [
            "All test cases passed!\n"
          ]
        }
      ],
      "source": [
        "def prime_factorization(n):\n",
        "    def get_factors(n):\n",
        "        i = 2\n",
        "        factors = {}\n",
        "        while i * i <= n:\n",
        "            while n % i == 0:\n",
        "                if i in factors:\n",
        "                    factors[i] += 1\n",
        "                else:\n",
        "                    factors[i] = 1\n",
        "                n //= i\n",
        "            i += 1\n",
        "        \n",
        "        if n > 1:\n",
        "            factors[n] = 1\n",
        "        \n",
        "        return factors\n",
        "    \n",
        "    factors = get_factors(n)\n",
        "    result = ''\n",
        "    \n",
        "    for factor, power in sorted(factors.items()):\n",
        "        if power == 1:\n",
        "            result += f'({factor})'\n",
        "        else:\n",
        "            result += f'({factor}**{power})'\n",
        "    \n",
        "    return result\n",
        "\n",
        "def test_prime_factorization():\n",
        "    assert prime_factorization(86240) == \"(2**5)(5)(7**2)(11)\", \"Test case 1 failed\"\n",
        "    assert prime_factorization(360) == \"(2**3)(3**2)(5)\", \"Test case 2 failed\"\n",
        "    assert prime_factorization(17) == \"(17)\", \"Test case 3 failed\" \n",
        "    assert prime_factorization(100) == \"(2**2)(5**2)\", \"Test case 4 failed\"\n",
        "    assert prime_factorization(1) == \"\", \"Test case 5 failed\"  \n",
        "\n",
        "    print(\"All test cases passed!\")\n",
        "\n",
        "test_prime_factorization()\n"
      ]
    },
    {
      "cell_type": "markdown",
      "metadata": {
        "id": "ps2s0BudX7A2"
      },
      "source": [
        "# Задача 7\n",
        "Написать функцию, принимающая целое число n, задающее количество кубиков. Функция\n",
        "должна определить, можно ли из данного кол-ва кубиков построить пирамиду, то есть\n",
        "можно ли представить число n как 1^2+2^2+3^2+…+k^2. Если можно, то функция должна\n",
        "вернуть k, иначе строку “It is impossible”. Написать тесты для кода"
      ]
    },
    {
      "cell_type": "code",
      "execution_count": 3,
      "metadata": {
        "id": "3YPjEXxhX_YT"
      },
      "outputs": [
        {
          "name": "stdout",
          "output_type": "stream",
          "text": [
            "All test cases passed!\n"
          ]
        }
      ],
      "source": [
        "def pyramid(n):\n",
        "    sum_of_squares = 0\n",
        "    k = 0\n",
        "    while sum_of_squares <= n:\n",
        "        k += 1\n",
        "        sum_of_squares += k ** 2  \n",
        "        if sum_of_squares == n:\n",
        "            return k\n",
        "    return \"It is impossible\"\n",
        "\n",
        "def test_pyramid():\n",
        "    assert pyramid(5) == 2, \"Test case 1 failed\"  \n",
        "    assert pyramid(14) == 3, \"Test case 2 failed\"  \n",
        "    assert pyramid(55) == 5, \"Test case 4 failed\" \n",
        "    assert pyramid(1) == 1, \"Test case 5 failed\"  \n",
        "    assert pyramid(0) == \"It is impossible\", \"Test case 6 failed\"  \n",
        "\n",
        "    print(\"All test cases passed!\")\n",
        "test_pyramid()\n"
      ]
    },
    {
      "cell_type": "markdown",
      "metadata": {},
      "source": []
    },
    {
      "cell_type": "markdown",
      "metadata": {
        "id": "KeKgmIdAQMEJ"
      },
      "source": [
        "# Задача 8\n",
        "Функция принимает на вход положительное число и определяет является ли оно сбалансированным, т.е. сумма цифр до средних равна сумме цифр после. Средними в случае нечетного числа цифр считать одну цифру, в случае четного - две средних. Написать тесты для кода"
      ]
    },
    {
      "cell_type": "code",
      "execution_count": 2,
      "metadata": {
        "id": "gMAAqtqlQrZt"
      },
      "outputs": [
        {
          "name": "stdout",
          "output_type": "stream",
          "text": [
            "All test cases passed!\n"
          ]
        }
      ],
      "source": [
        "def is_balanced(n):\n",
        "    str_n = str(n)\n",
        "    length = len(str_n)\n",
        "    if length % 2 == 0:\n",
        "        left_part = str_n[:length // 2]\n",
        "        right_part = str_n[length // 2:]\n",
        "    else:\n",
        "        left_part = str_n[:length // 2]\n",
        "        right_part = str_n[length // 2 + 1:]\n",
        "    left_sum = sum(int(x) for x in left_part)\n",
        "    right_sum = sum(int(x) for x in right_part)\n",
        "    return left_sum == right_sum\n",
        "\n",
        "def test_is_balanced():\n",
        "    assert is_balanced(123321) == True, \"Test case 1 failed\"  \n",
        "    assert is_balanced(12321) == True, \"Test case 2 failed\"  \n",
        "    assert is_balanced(123456) == False, \"Test case 3 failed\"\n",
        "    assert is_balanced(987789) == True, \"Test case 4 failed\" \n",
        "    assert is_balanced(12344321) == True, \"Test case 5 failed\"\n",
        "    assert is_balanced(1) == True, \"Test case 6 failed\"  \n",
        "    assert is_balanced(22) == True, \"Test case 7 failed\" \n",
        "    print(\"All test cases passed!\")\n",
        "\n",
        "test_is_balanced()\n"
      ]
    }
  ],
  "metadata": {
    "colab": {
      "provenance": []
    },
    "kernelspec": {
      "display_name": "Python 3",
      "name": "python3"
    },
    "language_info": {
      "codemirror_mode": {
        "name": "ipython",
        "version": 3
      },
      "file_extension": ".py",
      "mimetype": "text/x-python",
      "name": "python",
      "nbconvert_exporter": "python",
      "pygments_lexer": "ipython3",
      "version": "3.12.7"
    }
  },
  "nbformat": 4,
  "nbformat_minor": 0
}
